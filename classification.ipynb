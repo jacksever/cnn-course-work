{
  "metadata": {
    "colab": {
      "provenance": [],
      "gpuType": "T4"
    },
    "kernelspec": {
      "name": "python",
      "display_name": "Python (Pyodide)",
      "language": "python"
    },
    "language_info": {
      "name": "python"
    },
    "accelerator": "GPU"
  },
  "nbformat_minor": 0,
  "nbformat": 4,
  "cells": [
    {
      "cell_type": "markdown",
      "source": [
        "Мы импортируем необходимые модули и пакеты: numpy, tensorflow, matplotlib и прочие. Устанавливается переменная окружения KMP_DUPLICATE_LIB_OK в значение \"TRUE\". Это может быть необходимо на некоторых системах, чтобы избежать ошибки повторного дублирования библиотек."
      ],
      "metadata": {
        "id": "QjbXKPy7GIXb"
      }
    },
    {
      "cell_type": "code",
      "source": [
        "import os\n",
        "import pathlib\n",
        "\n",
        "import numpy as np\n",
        "import tensorflow as tf\n",
        "from matplotlib import pyplot as plt\n",
        "from tensorflow.keras.optimizers import Adam\n",
        "os.environ[\"KMP_DUPLICATE_LIB_OK\"] = \"TRUE\""
      ],
      "metadata": {
        "id": "Igq52EsvFTBX",
        "trusted": true
      },
      "execution_count": 1,
      "outputs": []
    },
    {
      "cell_type": "code",
      "source": [
        "from google.colab import drive\n",
        "drive.mount('/content/drive')"
      ],
      "metadata": {
        "id": "3TJTMGuVuRQ9"
      },
      "execution_count": null,
      "outputs": []
    },
    {
      "cell_type": "markdown",
      "source": [
        "Устанавливаем значение переменной эпох (для обучения использовалось порядка 250 эпох). Прописываем список классов, представляющих различные монеты - 11 видов монет. Определяется переменная data_dir, содержащая путь к каталогу с набором данных. Здесь используется модуль pathlib, чтобы получить объект Path, представляющий путь к каталогу ./datasets/coins. Определяются дополнительные параметры для обучения модели: batch_size и размеры изображения."
      ],
      "metadata": {
        "id": "Z55fM4c1GISo"
      }
    },
    {
      "cell_type": "code",
      "source": [
        "EPOCHS = 250\n",
        "MODEL_NAME = \"coindet\"\n",
        "CLASSES = ['100rub', '10kop', '10rub', '1kop', '1rub', '25rub', '2rub', '3rub', '50kop', '5kop', '5rub']\n",
        "\n",
        "data_dir = pathlib.Path(\"/content/drive/MyDrive/datasets/coins\")\n",
        "\n",
        "image_count = len(list(data_dir.glob('*/*.jpg')))\n",
        "print(image_count)\n",
        "\n",
        "batch_size = 32\n",
        "img_height = 224\n",
        "img_width = 224"
      ],
      "metadata": {
        "id": "14xcLw02FXL-",
        "colab": {
          "base_uri": "https://localhost:8080/"
        },
        "outputId": "ee834473-2064-4770-b04b-b1914ed5b016"
      },
      "execution_count": 3,
      "outputs": [
        {
          "output_type": "stream",
          "name": "stdout",
          "text": [
            "1183\n"
          ]
        }
      ]
    },
    {
      "cell_type": "markdown",
      "source": [
        "Используется функция для создания набора данных из изображений, расположенных в датасете, для обучения модели. Прописываем ей нужные параметры:\n",
        "\n",
        "\n",
        "*   data_dir: путь к каталогу с изображениями\n",
        "*   validation_split: доля данных, которая будет использоваться в качестве набора валидации (в данном случае, 20% данных)\n",
        "*   subset: указывает, какую часть набора данных использовать\n",
        "*   seed: определяет случайное распределение данных при разделении на обучающую и валидационную выборки.\n",
        "*   image_size: размер изображений, к которому будут приведены все входные изображения\n",
        "*   batch_size: размер пакета данных, который будет использоваться при обучении\n",
        "\n",
        "\n",
        "\n",
        "\n",
        "\n"
      ],
      "metadata": {
        "id": "AG3LlGsnHd6I"
      }
    },
    {
      "cell_type": "code",
      "source": [
        "train_ds = tf.keras.utils.image_dataset_from_directory(\n",
        "    data_dir,\n",
        "    validation_split=0.2,\n",
        "    subset=\"training\",\n",
        "    seed=123,\n",
        "    image_size=(img_height, img_width),\n",
        "    batch_size=batch_size)"
      ],
      "metadata": {
        "id": "Xy5QG8gwFZ63",
        "colab": {
          "base_uri": "https://localhost:8080/"
        },
        "outputId": "82bb3ae4-eb1c-4210-ac9d-2f2603bbf6a2"
      },
      "execution_count": 4,
      "outputs": [
        {
          "output_type": "stream",
          "name": "stdout",
          "text": [
            "Found 1183 files belonging to 11 classes.\n",
            "Using 947 files for training.\n"
          ]
        }
      ]
    },
    {
      "cell_type": "code",
      "source": [
        "class_names = train_ds.class_names\n",
        "print(class_names)"
      ],
      "metadata": {
        "id": "98cw3yA_pICE",
        "colab": {
          "base_uri": "https://localhost:8080/"
        },
        "outputId": "c6f5d7c0-d3a4-4d87-cf8a-cdece41f3889"
      },
      "execution_count": 5,
      "outputs": [
        {
          "output_type": "stream",
          "name": "stdout",
          "text": [
            "['100rub', '10kop', '10rub', '1kop', '1rub', '25rub', '2rub', '3rub', '50kop', '5kop', '5rub']\n"
          ]
        }
      ]
    },
    {
      "cell_type": "markdown",
      "source": [
        "Такая же функция, но для валидации"
      ],
      "metadata": {
        "id": "ncj9bHsQIZmE"
      }
    },
    {
      "cell_type": "code",
      "source": [
        "val_ds = tf.keras.utils.image_dataset_from_directory(\n",
        "    data_dir,\n",
        "    validation_split=0.2,\n",
        "    subset=\"validation\",\n",
        "    seed=123,\n",
        "    image_size=(img_height, img_width),\n",
        "    batch_size=batch_size)"
      ],
      "metadata": {
        "id": "46EAXEUjFbiv",
        "colab": {
          "base_uri": "https://localhost:8080/"
        },
        "outputId": "e5107c9f-1690-4d46-ad42-308918a26d84"
      },
      "execution_count": 6,
      "outputs": [
        {
          "output_type": "stream",
          "name": "stdout",
          "text": [
            "Found 1183 files belonging to 11 classes.\n",
            "Using 236 files for validation.\n"
          ]
        }
      ]
    },
    {
      "cell_type": "markdown",
      "source": [
        "Валидационный набор данных val_ds и обучающий набор данных train_ds кэшируется с помощью cache() и предзагружается с помощью prefetch(). Создается слой нормализации normalization_layer, который будет преобразовывать значения пикселей из диапазона [0, 255] в диапазон [0, 1]. Применяем слой нормализации к каждому изображению в наборе данных."
      ],
      "metadata": {
        "id": "zEvOeG_JIlVe"
      }
    },
    {
      "cell_type": "code",
      "source": [
        "AUTOTUNE = tf.data.AUTOTUNE\n",
        "\n",
        "train_ds = train_ds.cache().shuffle(1000).prefetch(buffer_size=AUTOTUNE)\n",
        "val_ds = val_ds.cache().prefetch(buffer_size=AUTOTUNE)"
      ],
      "metadata": {
        "id": "s9zCEyEQpICF"
      },
      "execution_count": 7,
      "outputs": []
    },
    {
      "cell_type": "code",
      "source": [
        "normalization_layer = tf.keras.layers.Rescaling(1. / 255)\n",
        "\n",
        "normalized_ds = train_ds.map(lambda x, y: (normalization_layer(x), y))\n",
        "image_batch, labels_batch = next(iter(normalized_ds))\n",
        "first_image = image_batch[0]\n",
        "\n",
        "print(np.min(first_image), np.max(first_image))"
      ],
      "metadata": {
        "id": "-QJ9KOPaFdNu",
        "colab": {
          "base_uri": "https://localhost:8080/"
        },
        "outputId": "a7ff809d-abf9-48b5-d118-e72769b88826"
      },
      "execution_count": 8,
      "outputs": [
        {
          "output_type": "stream",
          "name": "stdout",
          "text": [
            "0.0 1.0\n"
          ]
        }
      ]
    },
    {
      "cell_type": "code",
      "source": [
        "num_classes = 11"
      ],
      "metadata": {
        "id": "H7RNE-J_pICG"
      },
      "execution_count": 9,
      "outputs": []
    },
    {
      "cell_type": "markdown",
      "source": [
        "Проводим аугментацию данных. Аугментация данных - это процесс применения случайных преобразований к обучающим изображениям для увеличения разнообразия данных и повышения устойчивости модели."
      ],
      "metadata": {
        "id": "dmzrn08BJgZY"
      }
    },
    {
      "cell_type": "code",
      "source": [
        "data_augmentation = tf.keras.models.Sequential(\n",
        "    [\n",
        "        tf.keras.layers.RandomFlip(\"horizontal\",\n",
        "                                   input_shape=(img_height,\n",
        "                                                img_width,\n",
        "                                                3)),\n",
        "        tf.keras.layers.RandomRotation(0.2),\n",
        "        tf.keras.layers.RandomZoom(.5, .2, interpolation='nearest'),\n",
        "        tf.keras.layers.RandomContrast([1.0, 10.0]),\n",
        "        tf.keras.layers.RandomBrightness(factor=0.2)\n",
        "    ]\n",
        ")"
      ],
      "metadata": {
        "id": "jpdvcswTFhFm"
      },
      "execution_count": 10,
      "outputs": []
    },
    {
      "cell_type": "markdown",
      "source": [
        "Определяем модель нейронной сети, составленной вручную, состоит из 15 слоев. "
      ],
      "metadata": {
        "id": "Ho2upVbJJ0rR"
      }
    },
    {
      "cell_type": "code",
      "source": [
        "model = tf.keras.models.Sequential([\n",
        "    data_augmentation,\n",
        "    tf.keras.layers.Rescaling(1. / 255, input_shape=(img_height, img_width, 3)),\n",
        "    tf.keras.layers.Conv2D(16, 3, activation='relu'),\n",
        "    tf.keras.layers.MaxPooling2D(),\n",
        "    tf.keras.layers.Conv2D(32, 3, activation='relu'),\n",
        "    tf.keras.layers.MaxPooling2D(),\n",
        "    tf.keras.layers.Conv2D(64, 3, activation='relu'),\n",
        "    tf.keras.layers.MaxPooling2D(),\n",
        "    tf.keras.layers.Conv2D(64, 3, activation='relu'),\n",
        "    tf.keras.layers.MaxPooling2D(),\n",
        "    tf.keras.layers.Conv2D(64, 3, activation='relu'),\n",
        "    tf.keras.layers.MaxPooling2D(),\n",
        "    tf.keras.layers.Conv2D(64, 3, activation='relu'),\n",
        "    tf.keras.layers.MaxPooling2D(),\n",
        "    tf.keras.layers.Dropout(0.35),\n",
        "    tf.keras.layers.Flatten(),\n",
        "    tf.keras.layers.Dense(128, activation='relu'),\n",
        "    tf.keras.layers.Dense(num_classes)\n",
        "])\n"
      ],
      "metadata": {
        "id": "lf4adTeRFiPP"
      },
      "execution_count": 11,
      "outputs": []
    },
    {
      "cell_type": "markdown",
      "source": [
        "Задаем конфигурацию компиляцию модели нейросети перед обучением. Эти параметры компиляции определяют, как модель будет обучаться и оцениваться во время тренировки."
      ],
      "metadata": {
        "id": "XfhlxBP9KXd2"
      }
    },
    {
      "cell_type": "code",
      "source": [
        "model.compile(optimizer='adam',\n",
        "              loss=tf.keras.losses.SparseCategoricalCrossentropy(from_logits=True),\n",
        "              metrics=['accuracy'])"
      ],
      "metadata": {
        "id": "4g4IKmFNFkUf"
      },
      "execution_count": 12,
      "outputs": []
    },
    {
      "cell_type": "markdown",
      "source": [
        "Выполняем процесс обучения модели нейронной сети на обучающих данных train_ds и оцениваес ее производительности на валидационных данных val_ds в течение заданного числа эпох."
      ],
      "metadata": {
        "id": "YjytwmzMKp--"
      }
    },
    {
      "cell_type": "code",
      "source": [
        "history = model.fit(\n",
        "      train_ds, \n",
        "      validation_data=val_ds, \n",
        "      epochs=EPOCHS\n",
        ")"
      ],
      "metadata": {
        "id": "fMmKxj12Fl1X",
        "colab": {
          "base_uri": "https://localhost:8080/"
        },
        "outputId": "f94c71d8-8402-4e57-f42a-7576d4693ee9"
      },
      "execution_count": 13,
      "outputs": [
        {
          "output_type": "stream",
          "name": "stdout",
          "text": [
            "Epoch 1/250\n",
            "30/30 [==============================] - 47s 1s/step - loss: 2.2934 - accuracy: 0.1763 - val_loss: 2.2079 - val_accuracy: 0.2034\n",
            "Epoch 2/250\n",
            "30/30 [==============================] - 1s 47ms/step - loss: 2.1992 - accuracy: 0.2070 - val_loss: 2.2088 - val_accuracy: 0.2034\n",
            "Epoch 3/250\n",
            "30/30 [==============================] - 1s 49ms/step - loss: 2.1909 - accuracy: 0.2059 - val_loss: 2.2617 - val_accuracy: 0.2034\n",
            "Epoch 4/250\n",
            "30/30 [==============================] - 1s 50ms/step - loss: 2.1846 - accuracy: 0.2017 - val_loss: 2.2227 - val_accuracy: 0.2034\n",
            "Epoch 5/250\n",
            "30/30 [==============================] - 1s 44ms/step - loss: 2.1639 - accuracy: 0.2101 - val_loss: 2.2105 - val_accuracy: 0.2034\n",
            "Epoch 6/250\n",
            "30/30 [==============================] - 1s 47ms/step - loss: 2.1416 - accuracy: 0.2207 - val_loss: 2.1859 - val_accuracy: 0.2034\n",
            "Epoch 7/250\n",
            "30/30 [==============================] - 1s 48ms/step - loss: 2.0950 - accuracy: 0.2112 - val_loss: 2.1997 - val_accuracy: 0.2034\n",
            "Epoch 8/250\n",
            "30/30 [==============================] - 1s 45ms/step - loss: 2.1100 - accuracy: 0.2165 - val_loss: 2.1793 - val_accuracy: 0.2034\n",
            "Epoch 9/250\n",
            "30/30 [==============================] - 1s 45ms/step - loss: 2.0948 - accuracy: 0.2281 - val_loss: 2.1310 - val_accuracy: 0.2797\n",
            "Epoch 10/250\n",
            "30/30 [==============================] - 1s 45ms/step - loss: 2.0231 - accuracy: 0.2418 - val_loss: 2.1118 - val_accuracy: 0.2585\n",
            "Epoch 11/250\n",
            "30/30 [==============================] - 1s 47ms/step - loss: 2.0046 - accuracy: 0.2841 - val_loss: 2.0008 - val_accuracy: 0.2924\n",
            "Epoch 12/250\n",
            "30/30 [==============================] - 1s 47ms/step - loss: 1.9429 - accuracy: 0.2872 - val_loss: 2.0285 - val_accuracy: 0.2881\n",
            "Epoch 13/250\n",
            "30/30 [==============================] - 2s 51ms/step - loss: 1.8416 - accuracy: 0.3284 - val_loss: 1.9793 - val_accuracy: 0.2669\n",
            "Epoch 14/250\n",
            "30/30 [==============================] - 2s 50ms/step - loss: 1.8090 - accuracy: 0.3284 - val_loss: 1.9518 - val_accuracy: 0.2966\n",
            "Epoch 15/250\n",
            "30/30 [==============================] - 1s 44ms/step - loss: 1.8723 - accuracy: 0.3157 - val_loss: 1.9073 - val_accuracy: 0.3136\n",
            "Epoch 16/250\n",
            "30/30 [==============================] - 1s 45ms/step - loss: 1.7683 - accuracy: 0.3432 - val_loss: 1.8768 - val_accuracy: 0.3008\n",
            "Epoch 17/250\n",
            "30/30 [==============================] - 1s 45ms/step - loss: 1.7586 - accuracy: 0.3485 - val_loss: 1.7796 - val_accuracy: 0.3644\n",
            "Epoch 18/250\n",
            "30/30 [==============================] - 1s 46ms/step - loss: 1.7099 - accuracy: 0.3590 - val_loss: 1.8337 - val_accuracy: 0.3178\n",
            "Epoch 19/250\n",
            "30/30 [==============================] - 1s 44ms/step - loss: 1.7129 - accuracy: 0.3464 - val_loss: 1.8126 - val_accuracy: 0.3263\n",
            "Epoch 20/250\n",
            "30/30 [==============================] - 1s 47ms/step - loss: 1.7166 - accuracy: 0.3590 - val_loss: 1.9469 - val_accuracy: 0.2966\n",
            "Epoch 21/250\n",
            "30/30 [==============================] - 1s 48ms/step - loss: 1.7016 - accuracy: 0.3749 - val_loss: 1.8669 - val_accuracy: 0.2924\n",
            "Epoch 22/250\n",
            "30/30 [==============================] - 1s 45ms/step - loss: 1.6469 - accuracy: 0.3865 - val_loss: 1.7770 - val_accuracy: 0.3390\n",
            "Epoch 23/250\n",
            "30/30 [==============================] - 1s 44ms/step - loss: 1.6250 - accuracy: 0.3759 - val_loss: 1.8808 - val_accuracy: 0.3305\n",
            "Epoch 24/250\n",
            "30/30 [==============================] - 1s 46ms/step - loss: 1.6821 - accuracy: 0.3812 - val_loss: 1.7334 - val_accuracy: 0.3856\n",
            "Epoch 25/250\n",
            "30/30 [==============================] - 1s 47ms/step - loss: 1.6429 - accuracy: 0.3907 - val_loss: 1.6882 - val_accuracy: 0.3771\n",
            "Epoch 26/250\n",
            "30/30 [==============================] - 1s 47ms/step - loss: 1.6040 - accuracy: 0.4044 - val_loss: 1.7442 - val_accuracy: 0.3771\n",
            "Epoch 27/250\n",
            "30/30 [==============================] - 2s 51ms/step - loss: 1.6768 - accuracy: 0.3749 - val_loss: 1.7155 - val_accuracy: 0.3644\n",
            "Epoch 28/250\n",
            "30/30 [==============================] - 2s 50ms/step - loss: 1.5917 - accuracy: 0.3918 - val_loss: 1.8472 - val_accuracy: 0.3729\n",
            "Epoch 29/250\n",
            "30/30 [==============================] - 1s 46ms/step - loss: 1.6251 - accuracy: 0.3886 - val_loss: 1.7598 - val_accuracy: 0.3093\n",
            "Epoch 30/250\n",
            "30/30 [==============================] - 1s 45ms/step - loss: 1.5909 - accuracy: 0.3823 - val_loss: 1.6987 - val_accuracy: 0.3771\n",
            "Epoch 31/250\n",
            "30/30 [==============================] - 1s 49ms/step - loss: 1.6024 - accuracy: 0.3992 - val_loss: 1.6925 - val_accuracy: 0.3771\n",
            "Epoch 32/250\n",
            "30/30 [==============================] - 1s 46ms/step - loss: 1.5540 - accuracy: 0.4161 - val_loss: 1.6874 - val_accuracy: 0.3729\n",
            "Epoch 33/250\n",
            "30/30 [==============================] - 1s 45ms/step - loss: 1.5583 - accuracy: 0.4044 - val_loss: 1.7127 - val_accuracy: 0.3602\n",
            "Epoch 34/250\n",
            "30/30 [==============================] - 1s 44ms/step - loss: 1.5934 - accuracy: 0.4129 - val_loss: 1.7064 - val_accuracy: 0.3432\n",
            "Epoch 35/250\n",
            "30/30 [==============================] - 1s 45ms/step - loss: 1.5226 - accuracy: 0.4002 - val_loss: 1.7138 - val_accuracy: 0.3559\n",
            "Epoch 36/250\n",
            "30/30 [==============================] - 1s 48ms/step - loss: 1.4776 - accuracy: 0.4298 - val_loss: 1.6591 - val_accuracy: 0.4110\n",
            "Epoch 37/250\n",
            "30/30 [==============================] - 1s 48ms/step - loss: 1.5788 - accuracy: 0.4118 - val_loss: 1.7237 - val_accuracy: 0.3475\n",
            "Epoch 38/250\n",
            "30/30 [==============================] - 1s 47ms/step - loss: 1.4796 - accuracy: 0.4393 - val_loss: 1.6291 - val_accuracy: 0.4068\n",
            "Epoch 39/250\n",
            "30/30 [==============================] - 1s 45ms/step - loss: 1.5227 - accuracy: 0.4287 - val_loss: 1.7617 - val_accuracy: 0.3263\n",
            "Epoch 40/250\n",
            "30/30 [==============================] - 1s 44ms/step - loss: 1.5180 - accuracy: 0.4393 - val_loss: 1.6631 - val_accuracy: 0.3432\n",
            "Epoch 41/250\n",
            "30/30 [==============================] - 1s 45ms/step - loss: 1.4462 - accuracy: 0.4435 - val_loss: 1.6106 - val_accuracy: 0.3983\n",
            "Epoch 42/250\n",
            "30/30 [==============================] - 1s 44ms/step - loss: 1.4971 - accuracy: 0.4329 - val_loss: 1.6146 - val_accuracy: 0.3686\n",
            "Epoch 43/250\n",
            "30/30 [==============================] - 1s 45ms/step - loss: 1.4719 - accuracy: 0.4530 - val_loss: 1.6480 - val_accuracy: 0.3347\n",
            "Epoch 44/250\n",
            "30/30 [==============================] - 1s 49ms/step - loss: 1.4904 - accuracy: 0.4139 - val_loss: 1.6226 - val_accuracy: 0.3644\n",
            "Epoch 45/250\n",
            "30/30 [==============================] - 1s 48ms/step - loss: 1.4200 - accuracy: 0.4446 - val_loss: 1.5121 - val_accuracy: 0.4110\n",
            "Epoch 46/250\n",
            "30/30 [==============================] - 1s 47ms/step - loss: 1.4964 - accuracy: 0.4340 - val_loss: 1.6602 - val_accuracy: 0.3475\n",
            "Epoch 47/250\n",
            "30/30 [==============================] - 1s 45ms/step - loss: 1.4759 - accuracy: 0.4541 - val_loss: 1.6048 - val_accuracy: 0.4025\n",
            "Epoch 48/250\n",
            "30/30 [==============================] - 1s 44ms/step - loss: 1.4354 - accuracy: 0.4688 - val_loss: 1.5795 - val_accuracy: 0.3559\n",
            "Epoch 49/250\n",
            "30/30 [==============================] - 1s 45ms/step - loss: 1.4546 - accuracy: 0.4741 - val_loss: 1.6184 - val_accuracy: 0.4534\n",
            "Epoch 50/250\n",
            "30/30 [==============================] - 1s 44ms/step - loss: 1.4264 - accuracy: 0.4541 - val_loss: 1.6408 - val_accuracy: 0.3898\n",
            "Epoch 51/250\n",
            "30/30 [==============================] - 1s 44ms/step - loss: 1.4205 - accuracy: 0.4541 - val_loss: 1.5897 - val_accuracy: 0.3941\n",
            "Epoch 52/250\n",
            "30/30 [==============================] - 1s 46ms/step - loss: 1.4636 - accuracy: 0.4720 - val_loss: 1.6188 - val_accuracy: 0.4068\n",
            "Epoch 53/250\n",
            "30/30 [==============================] - 1s 48ms/step - loss: 1.3607 - accuracy: 0.4974 - val_loss: 1.5423 - val_accuracy: 0.4110\n",
            "Epoch 54/250\n",
            "30/30 [==============================] - 1s 44ms/step - loss: 1.4496 - accuracy: 0.4583 - val_loss: 1.5802 - val_accuracy: 0.3644\n",
            "Epoch 55/250\n",
            "30/30 [==============================] - 1s 44ms/step - loss: 1.3393 - accuracy: 0.4931 - val_loss: 1.5549 - val_accuracy: 0.4280\n",
            "Epoch 56/250\n",
            "30/30 [==============================] - 1s 44ms/step - loss: 1.4595 - accuracy: 0.4477 - val_loss: 1.5583 - val_accuracy: 0.3856\n",
            "Epoch 57/250\n",
            "30/30 [==============================] - 1s 44ms/step - loss: 1.4037 - accuracy: 0.4868 - val_loss: 1.4876 - val_accuracy: 0.4534\n",
            "Epoch 58/250\n",
            "30/30 [==============================] - 1s 44ms/step - loss: 1.3202 - accuracy: 0.5143 - val_loss: 1.5345 - val_accuracy: 0.3644\n",
            "Epoch 59/250\n",
            "30/30 [==============================] - 1s 44ms/step - loss: 1.3905 - accuracy: 0.4762 - val_loss: 1.5062 - val_accuracy: 0.3941\n",
            "Epoch 60/250\n",
            "30/30 [==============================] - 1s 49ms/step - loss: 1.3352 - accuracy: 0.4900 - val_loss: 1.5325 - val_accuracy: 0.3983\n",
            "Epoch 61/250\n",
            "30/30 [==============================] - 2s 52ms/step - loss: 1.3044 - accuracy: 0.4879 - val_loss: 1.5687 - val_accuracy: 0.3814\n",
            "Epoch 62/250\n",
            "30/30 [==============================] - 2s 53ms/step - loss: 1.3840 - accuracy: 0.5005 - val_loss: 1.5583 - val_accuracy: 0.3941\n",
            "Epoch 63/250\n",
            "30/30 [==============================] - 1s 49ms/step - loss: 1.3849 - accuracy: 0.4784 - val_loss: 1.4625 - val_accuracy: 0.4110\n",
            "Epoch 64/250\n",
            "30/30 [==============================] - 1s 48ms/step - loss: 1.3307 - accuracy: 0.4952 - val_loss: 1.5152 - val_accuracy: 0.4237\n",
            "Epoch 65/250\n",
            "30/30 [==============================] - 1s 45ms/step - loss: 1.3312 - accuracy: 0.5037 - val_loss: 1.5540 - val_accuracy: 0.4153\n",
            "Epoch 66/250\n",
            "30/30 [==============================] - 1s 44ms/step - loss: 1.3192 - accuracy: 0.4784 - val_loss: 1.4315 - val_accuracy: 0.4746\n",
            "Epoch 67/250\n",
            "30/30 [==============================] - 1s 44ms/step - loss: 1.3123 - accuracy: 0.5090 - val_loss: 1.5457 - val_accuracy: 0.4407\n",
            "Epoch 68/250\n",
            "30/30 [==============================] - 1s 49ms/step - loss: 1.3527 - accuracy: 0.4963 - val_loss: 1.4801 - val_accuracy: 0.4195\n",
            "Epoch 69/250\n",
            "30/30 [==============================] - 1s 46ms/step - loss: 1.3057 - accuracy: 0.5100 - val_loss: 1.4494 - val_accuracy: 0.4619\n",
            "Epoch 70/250\n",
            "30/30 [==============================] - 1s 45ms/step - loss: 1.3448 - accuracy: 0.4974 - val_loss: 1.4345 - val_accuracy: 0.4661\n",
            "Epoch 71/250\n",
            "30/30 [==============================] - 1s 45ms/step - loss: 1.3368 - accuracy: 0.5026 - val_loss: 1.4804 - val_accuracy: 0.4322\n",
            "Epoch 72/250\n",
            "30/30 [==============================] - 1s 45ms/step - loss: 1.3670 - accuracy: 0.4942 - val_loss: 1.5878 - val_accuracy: 0.4322\n",
            "Epoch 73/250\n",
            "30/30 [==============================] - 1s 45ms/step - loss: 1.3381 - accuracy: 0.5048 - val_loss: 1.4952 - val_accuracy: 0.4831\n",
            "Epoch 74/250\n",
            "30/30 [==============================] - 1s 46ms/step - loss: 1.3308 - accuracy: 0.5069 - val_loss: 1.4865 - val_accuracy: 0.4873\n",
            "Epoch 75/250\n",
            "30/30 [==============================] - 1s 45ms/step - loss: 1.3265 - accuracy: 0.5048 - val_loss: 1.4030 - val_accuracy: 0.4958\n",
            "Epoch 76/250\n",
            "30/30 [==============================] - 1s 47ms/step - loss: 1.3650 - accuracy: 0.5037 - val_loss: 1.4924 - val_accuracy: 0.4449\n",
            "Epoch 77/250\n",
            "30/30 [==============================] - 1s 49ms/step - loss: 1.2917 - accuracy: 0.5312 - val_loss: 1.3900 - val_accuracy: 0.5169\n",
            "Epoch 78/250\n",
            "30/30 [==============================] - 1s 45ms/step - loss: 1.2513 - accuracy: 0.5375 - val_loss: 1.4626 - val_accuracy: 0.4492\n",
            "Epoch 79/250\n",
            "30/30 [==============================] - 1s 45ms/step - loss: 1.2607 - accuracy: 0.5385 - val_loss: 1.3406 - val_accuracy: 0.4788\n",
            "Epoch 80/250\n",
            "30/30 [==============================] - 1s 45ms/step - loss: 1.3222 - accuracy: 0.5216 - val_loss: 1.3051 - val_accuracy: 0.5593\n",
            "Epoch 81/250\n",
            "30/30 [==============================] - 1s 45ms/step - loss: 1.3051 - accuracy: 0.5375 - val_loss: 1.3595 - val_accuracy: 0.5042\n",
            "Epoch 82/250\n",
            "30/30 [==============================] - 1s 45ms/step - loss: 1.2161 - accuracy: 0.5449 - val_loss: 1.3685 - val_accuracy: 0.5042\n",
            "Epoch 83/250\n",
            "30/30 [==============================] - 1s 47ms/step - loss: 1.2838 - accuracy: 0.5396 - val_loss: 1.4172 - val_accuracy: 0.4746\n",
            "Epoch 84/250\n",
            "30/30 [==============================] - 1s 49ms/step - loss: 1.2017 - accuracy: 0.5554 - val_loss: 1.3599 - val_accuracy: 0.4915\n",
            "Epoch 85/250\n",
            "30/30 [==============================] - 1s 45ms/step - loss: 1.2179 - accuracy: 0.5290 - val_loss: 1.3909 - val_accuracy: 0.5042\n",
            "Epoch 86/250\n",
            "30/30 [==============================] - 1s 44ms/step - loss: 1.2397 - accuracy: 0.5333 - val_loss: 1.3886 - val_accuracy: 0.5000\n",
            "Epoch 87/250\n",
            "30/30 [==============================] - 1s 45ms/step - loss: 1.2370 - accuracy: 0.5428 - val_loss: 1.4292 - val_accuracy: 0.4746\n",
            "Epoch 88/250\n",
            "30/30 [==============================] - 1s 45ms/step - loss: 1.2517 - accuracy: 0.5438 - val_loss: 1.3683 - val_accuracy: 0.5085\n",
            "Epoch 89/250\n",
            "30/30 [==============================] - 1s 45ms/step - loss: 1.2038 - accuracy: 0.5480 - val_loss: 1.2675 - val_accuracy: 0.5424\n",
            "Epoch 90/250\n",
            "30/30 [==============================] - 1s 45ms/step - loss: 1.2627 - accuracy: 0.5649 - val_loss: 1.4180 - val_accuracy: 0.5169\n",
            "Epoch 91/250\n",
            "30/30 [==============================] - 1s 47ms/step - loss: 1.3215 - accuracy: 0.5121 - val_loss: 1.3810 - val_accuracy: 0.5381\n",
            "Epoch 92/250\n",
            "30/30 [==============================] - 1s 48ms/step - loss: 1.2707 - accuracy: 0.5364 - val_loss: 1.3116 - val_accuracy: 0.5254\n",
            "Epoch 93/250\n",
            "30/30 [==============================] - 1s 45ms/step - loss: 1.2417 - accuracy: 0.5459 - val_loss: 1.4323 - val_accuracy: 0.5042\n",
            "Epoch 94/250\n",
            "30/30 [==============================] - 1s 44ms/step - loss: 1.2109 - accuracy: 0.5586 - val_loss: 1.3257 - val_accuracy: 0.5169\n",
            "Epoch 95/250\n",
            "30/30 [==============================] - 1s 48ms/step - loss: 1.2407 - accuracy: 0.5343 - val_loss: 1.5244 - val_accuracy: 0.4746\n",
            "Epoch 96/250\n",
            "30/30 [==============================] - 1s 48ms/step - loss: 1.2395 - accuracy: 0.5396 - val_loss: 1.3400 - val_accuracy: 0.5000\n",
            "Epoch 97/250\n",
            "30/30 [==============================] - 1s 48ms/step - loss: 1.1972 - accuracy: 0.5660 - val_loss: 1.2964 - val_accuracy: 0.5212\n",
            "Epoch 98/250\n",
            "30/30 [==============================] - 1s 47ms/step - loss: 1.3176 - accuracy: 0.5417 - val_loss: 1.3348 - val_accuracy: 0.5169\n",
            "Epoch 99/250\n",
            "30/30 [==============================] - 1s 48ms/step - loss: 1.2422 - accuracy: 0.5396 - val_loss: 1.3183 - val_accuracy: 0.5381\n",
            "Epoch 100/250\n",
            "30/30 [==============================] - 1s 48ms/step - loss: 1.2034 - accuracy: 0.5808 - val_loss: 1.3022 - val_accuracy: 0.5212\n",
            "Epoch 101/250\n",
            "30/30 [==============================] - 1s 45ms/step - loss: 1.1565 - accuracy: 0.5913 - val_loss: 1.2869 - val_accuracy: 0.5127\n",
            "Epoch 102/250\n",
            "30/30 [==============================] - 1s 47ms/step - loss: 1.1837 - accuracy: 0.5512 - val_loss: 1.2808 - val_accuracy: 0.5254\n",
            "Epoch 103/250\n",
            "30/30 [==============================] - 1s 45ms/step - loss: 1.1811 - accuracy: 0.5818 - val_loss: 1.2437 - val_accuracy: 0.5339\n",
            "Epoch 104/250\n",
            "30/30 [==============================] - 1s 45ms/step - loss: 1.1926 - accuracy: 0.5787 - val_loss: 1.3209 - val_accuracy: 0.5339\n",
            "Epoch 105/250\n",
            "30/30 [==============================] - 1s 47ms/step - loss: 1.2067 - accuracy: 0.5533 - val_loss: 1.3473 - val_accuracy: 0.5381\n",
            "Epoch 106/250\n",
            "30/30 [==============================] - 1s 47ms/step - loss: 1.2088 - accuracy: 0.5660 - val_loss: 1.4206 - val_accuracy: 0.5042\n",
            "Epoch 107/250\n",
            "30/30 [==============================] - 1s 48ms/step - loss: 1.2819 - accuracy: 0.5407 - val_loss: 1.3382 - val_accuracy: 0.5381\n",
            "Epoch 108/250\n",
            "30/30 [==============================] - 1s 49ms/step - loss: 1.1466 - accuracy: 0.5671 - val_loss: 1.3408 - val_accuracy: 0.5466\n",
            "Epoch 109/250\n",
            "30/30 [==============================] - 2s 51ms/step - loss: 1.0985 - accuracy: 0.6103 - val_loss: 1.2077 - val_accuracy: 0.5720\n",
            "Epoch 110/250\n",
            "30/30 [==============================] - 2s 51ms/step - loss: 1.1558 - accuracy: 0.5839 - val_loss: 1.2324 - val_accuracy: 0.5636\n",
            "Epoch 111/250\n",
            "30/30 [==============================] - 1s 45ms/step - loss: 1.1142 - accuracy: 0.5903 - val_loss: 1.3002 - val_accuracy: 0.5212\n",
            "Epoch 112/250\n",
            "30/30 [==============================] - 1s 45ms/step - loss: 1.0937 - accuracy: 0.6336 - val_loss: 1.2428 - val_accuracy: 0.5381\n",
            "Epoch 113/250\n",
            "30/30 [==============================] - 1s 45ms/step - loss: 1.1049 - accuracy: 0.6008 - val_loss: 1.2300 - val_accuracy: 0.5466\n",
            "Epoch 114/250\n",
            "30/30 [==============================] - 1s 45ms/step - loss: 1.1253 - accuracy: 0.5935 - val_loss: 1.2519 - val_accuracy: 0.5127\n",
            "Epoch 115/250\n",
            "30/30 [==============================] - 1s 45ms/step - loss: 1.1762 - accuracy: 0.5692 - val_loss: 1.2710 - val_accuracy: 0.4958\n",
            "Epoch 116/250\n",
            "30/30 [==============================] - 1s 44ms/step - loss: 1.0686 - accuracy: 0.6061 - val_loss: 1.2030 - val_accuracy: 0.5805\n",
            "Epoch 117/250\n",
            "30/30 [==============================] - 1s 48ms/step - loss: 1.1001 - accuracy: 0.5987 - val_loss: 1.1851 - val_accuracy: 0.5890\n",
            "Epoch 118/250\n",
            "30/30 [==============================] - 1s 47ms/step - loss: 1.0946 - accuracy: 0.6135 - val_loss: 1.2472 - val_accuracy: 0.5297\n",
            "Epoch 119/250\n",
            "30/30 [==============================] - 1s 44ms/step - loss: 1.1429 - accuracy: 0.5998 - val_loss: 1.3307 - val_accuracy: 0.5381\n",
            "Epoch 120/250\n",
            "30/30 [==============================] - 1s 45ms/step - loss: 1.1208 - accuracy: 0.5892 - val_loss: 1.3050 - val_accuracy: 0.5085\n",
            "Epoch 121/250\n",
            "30/30 [==============================] - 1s 45ms/step - loss: 1.1185 - accuracy: 0.6008 - val_loss: 1.2615 - val_accuracy: 0.5508\n",
            "Epoch 122/250\n",
            "30/30 [==============================] - 1s 45ms/step - loss: 1.0846 - accuracy: 0.6103 - val_loss: 1.3193 - val_accuracy: 0.5551\n",
            "Epoch 123/250\n",
            "30/30 [==============================] - 1s 45ms/step - loss: 1.1980 - accuracy: 0.5660 - val_loss: 1.2092 - val_accuracy: 0.5593\n",
            "Epoch 124/250\n",
            "30/30 [==============================] - 1s 45ms/step - loss: 1.2188 - accuracy: 0.5723 - val_loss: 1.3279 - val_accuracy: 0.5042\n",
            "Epoch 125/250\n",
            "30/30 [==============================] - 1s 49ms/step - loss: 1.0507 - accuracy: 0.6188 - val_loss: 1.3634 - val_accuracy: 0.5127\n",
            "Epoch 126/250\n",
            "30/30 [==============================] - 1s 48ms/step - loss: 1.2212 - accuracy: 0.5839 - val_loss: 1.3787 - val_accuracy: 0.5254\n",
            "Epoch 127/250\n",
            "30/30 [==============================] - 1s 44ms/step - loss: 1.0824 - accuracy: 0.6051 - val_loss: 1.3588 - val_accuracy: 0.5381\n",
            "Epoch 128/250\n",
            "30/30 [==============================] - 1s 45ms/step - loss: 1.1233 - accuracy: 0.6135 - val_loss: 1.2952 - val_accuracy: 0.5424\n",
            "Epoch 129/250\n",
            "30/30 [==============================] - 1s 47ms/step - loss: 1.0807 - accuracy: 0.6283 - val_loss: 1.2095 - val_accuracy: 0.5508\n",
            "Epoch 130/250\n",
            "30/30 [==============================] - 1s 48ms/step - loss: 1.1140 - accuracy: 0.6167 - val_loss: 1.1709 - val_accuracy: 0.6059\n",
            "Epoch 131/250\n",
            "30/30 [==============================] - 1s 50ms/step - loss: 1.0813 - accuracy: 0.6093 - val_loss: 1.3093 - val_accuracy: 0.5763\n",
            "Epoch 132/250\n",
            "30/30 [==============================] - 1s 49ms/step - loss: 1.0567 - accuracy: 0.6389 - val_loss: 1.1911 - val_accuracy: 0.5466\n",
            "Epoch 133/250\n",
            "30/30 [==============================] - 1s 49ms/step - loss: 1.0412 - accuracy: 0.6336 - val_loss: 1.1284 - val_accuracy: 0.6144\n",
            "Epoch 134/250\n",
            "30/30 [==============================] - 1s 46ms/step - loss: 1.0502 - accuracy: 0.6325 - val_loss: 1.0878 - val_accuracy: 0.6059\n",
            "Epoch 135/250\n",
            "30/30 [==============================] - 1s 45ms/step - loss: 1.0272 - accuracy: 0.6420 - val_loss: 1.1068 - val_accuracy: 0.6229\n",
            "Epoch 136/250\n",
            "30/30 [==============================] - 1s 45ms/step - loss: 1.0840 - accuracy: 0.6294 - val_loss: 1.1239 - val_accuracy: 0.6144\n",
            "Epoch 137/250\n",
            "30/30 [==============================] - 1s 45ms/step - loss: 1.0869 - accuracy: 0.6125 - val_loss: 1.1287 - val_accuracy: 0.5720\n",
            "Epoch 138/250\n",
            "30/30 [==============================] - 1s 46ms/step - loss: 1.1149 - accuracy: 0.6072 - val_loss: 1.2052 - val_accuracy: 0.6059\n",
            "Epoch 139/250\n",
            "30/30 [==============================] - 1s 44ms/step - loss: 1.1496 - accuracy: 0.5861 - val_loss: 1.3637 - val_accuracy: 0.5551\n",
            "Epoch 140/250\n",
            "30/30 [==============================] - 1s 49ms/step - loss: 1.0483 - accuracy: 0.6283 - val_loss: 1.1277 - val_accuracy: 0.6271\n",
            "Epoch 141/250\n",
            "30/30 [==============================] - 1s 48ms/step - loss: 0.9800 - accuracy: 0.6441 - val_loss: 1.2291 - val_accuracy: 0.5508\n",
            "Epoch 142/250\n",
            "30/30 [==============================] - 1s 45ms/step - loss: 1.0832 - accuracy: 0.6167 - val_loss: 1.1744 - val_accuracy: 0.5678\n",
            "Epoch 143/250\n",
            "30/30 [==============================] - 1s 45ms/step - loss: 1.0392 - accuracy: 0.6283 - val_loss: 1.1799 - val_accuracy: 0.5890\n",
            "Epoch 144/250\n",
            "30/30 [==============================] - 1s 45ms/step - loss: 1.0526 - accuracy: 0.6114 - val_loss: 1.2168 - val_accuracy: 0.5508\n",
            "Epoch 145/250\n",
            "30/30 [==============================] - 1s 44ms/step - loss: 1.0874 - accuracy: 0.6220 - val_loss: 1.1142 - val_accuracy: 0.5932\n",
            "Epoch 146/250\n",
            "30/30 [==============================] - 1s 44ms/step - loss: 1.0606 - accuracy: 0.6283 - val_loss: 1.3251 - val_accuracy: 0.5424\n",
            "Epoch 147/250\n",
            "30/30 [==============================] - 1s 47ms/step - loss: 1.0511 - accuracy: 0.6294 - val_loss: 1.0672 - val_accuracy: 0.6568\n",
            "Epoch 148/250\n",
            "30/30 [==============================] - 1s 48ms/step - loss: 1.0684 - accuracy: 0.6220 - val_loss: 1.1532 - val_accuracy: 0.6017\n",
            "Epoch 149/250\n",
            "30/30 [==============================] - 1s 46ms/step - loss: 1.0325 - accuracy: 0.6325 - val_loss: 1.1128 - val_accuracy: 0.5763\n",
            "Epoch 150/250\n",
            "30/30 [==============================] - 1s 45ms/step - loss: 1.0627 - accuracy: 0.6082 - val_loss: 1.1167 - val_accuracy: 0.6059\n",
            "Epoch 151/250\n",
            "30/30 [==============================] - 1s 45ms/step - loss: 1.1051 - accuracy: 0.5924 - val_loss: 1.2048 - val_accuracy: 0.6017\n",
            "Epoch 152/250\n",
            "30/30 [==============================] - 1s 45ms/step - loss: 1.1134 - accuracy: 0.5956 - val_loss: 1.1189 - val_accuracy: 0.6229\n",
            "Epoch 153/250\n",
            "30/30 [==============================] - 1s 45ms/step - loss: 1.0308 - accuracy: 0.6346 - val_loss: 1.1518 - val_accuracy: 0.5975\n",
            "Epoch 154/250\n",
            "30/30 [==============================] - 1s 45ms/step - loss: 0.9921 - accuracy: 0.6441 - val_loss: 1.2283 - val_accuracy: 0.5932\n",
            "Epoch 155/250\n",
            "30/30 [==============================] - 1s 47ms/step - loss: 0.9558 - accuracy: 0.6684 - val_loss: 1.0513 - val_accuracy: 0.6695\n",
            "Epoch 156/250\n",
            "30/30 [==============================] - 1s 49ms/step - loss: 1.0422 - accuracy: 0.6505 - val_loss: 1.3112 - val_accuracy: 0.5593\n",
            "Epoch 157/250\n",
            "30/30 [==============================] - 1s 48ms/step - loss: 0.9698 - accuracy: 0.6674 - val_loss: 1.1042 - val_accuracy: 0.6441\n",
            "Epoch 158/250\n",
            "30/30 [==============================] - 1s 47ms/step - loss: 0.9743 - accuracy: 0.6621 - val_loss: 1.2013 - val_accuracy: 0.5805\n",
            "Epoch 159/250\n",
            "30/30 [==============================] - 1s 45ms/step - loss: 1.0877 - accuracy: 0.6177 - val_loss: 1.0831 - val_accuracy: 0.6229\n",
            "Epoch 160/250\n",
            "30/30 [==============================] - 1s 45ms/step - loss: 1.0063 - accuracy: 0.6473 - val_loss: 1.0929 - val_accuracy: 0.6059\n",
            "Epoch 161/250\n",
            "30/30 [==============================] - 1s 47ms/step - loss: 0.9995 - accuracy: 0.6463 - val_loss: 1.0745 - val_accuracy: 0.6483\n",
            "Epoch 162/250\n",
            "30/30 [==============================] - 1s 45ms/step - loss: 0.9571 - accuracy: 0.6822 - val_loss: 1.0514 - val_accuracy: 0.6441\n",
            "Epoch 163/250\n",
            "30/30 [==============================] - 1s 44ms/step - loss: 1.0360 - accuracy: 0.6357 - val_loss: 1.1727 - val_accuracy: 0.5932\n",
            "Epoch 164/250\n",
            "30/30 [==============================] - 2s 54ms/step - loss: 1.0140 - accuracy: 0.6346 - val_loss: 1.0600 - val_accuracy: 0.6398\n",
            "Epoch 165/250\n",
            "30/30 [==============================] - 2s 55ms/step - loss: 0.9406 - accuracy: 0.6579 - val_loss: 0.9696 - val_accuracy: 0.7034\n",
            "Epoch 166/250\n",
            "30/30 [==============================] - 1s 46ms/step - loss: 0.9818 - accuracy: 0.6579 - val_loss: 1.1598 - val_accuracy: 0.5847\n",
            "Epoch 167/250\n",
            "30/30 [==============================] - 1s 45ms/step - loss: 1.0883 - accuracy: 0.6315 - val_loss: 1.1658 - val_accuracy: 0.6144\n",
            "Epoch 168/250\n",
            "30/30 [==============================] - 1s 44ms/step - loss: 1.0061 - accuracy: 0.6389 - val_loss: 1.1021 - val_accuracy: 0.6229\n",
            "Epoch 169/250\n",
            "30/30 [==============================] - 1s 44ms/step - loss: 1.0385 - accuracy: 0.6294 - val_loss: 1.0882 - val_accuracy: 0.6314\n",
            "Epoch 170/250\n",
            "30/30 [==============================] - 1s 44ms/step - loss: 0.9365 - accuracy: 0.6790 - val_loss: 1.0018 - val_accuracy: 0.6822\n",
            "Epoch 171/250\n",
            "30/30 [==============================] - 1s 49ms/step - loss: 0.9031 - accuracy: 0.6779 - val_loss: 1.1735 - val_accuracy: 0.5720\n",
            "Epoch 172/250\n",
            "30/30 [==============================] - 1s 48ms/step - loss: 0.9328 - accuracy: 0.6748 - val_loss: 1.1174 - val_accuracy: 0.6059\n",
            "Epoch 173/250\n",
            "30/30 [==============================] - 1s 47ms/step - loss: 1.0042 - accuracy: 0.6463 - val_loss: 1.0084 - val_accuracy: 0.6568\n",
            "Epoch 174/250\n",
            "30/30 [==============================] - 1s 44ms/step - loss: 1.0596 - accuracy: 0.6114 - val_loss: 1.2401 - val_accuracy: 0.5932\n",
            "Epoch 175/250\n",
            "30/30 [==============================] - 1s 44ms/step - loss: 0.9344 - accuracy: 0.6642 - val_loss: 1.1042 - val_accuracy: 0.6271\n",
            "Epoch 176/250\n",
            "30/30 [==============================] - 1s 45ms/step - loss: 0.9278 - accuracy: 0.6663 - val_loss: 1.0465 - val_accuracy: 0.6271\n",
            "Epoch 177/250\n",
            "30/30 [==============================] - 1s 45ms/step - loss: 0.9470 - accuracy: 0.6663 - val_loss: 1.0798 - val_accuracy: 0.6356\n",
            "Epoch 178/250\n",
            "30/30 [==============================] - 1s 44ms/step - loss: 0.9517 - accuracy: 0.6600 - val_loss: 1.1457 - val_accuracy: 0.6229\n",
            "Epoch 179/250\n",
            "30/30 [==============================] - 1s 47ms/step - loss: 0.9673 - accuracy: 0.6579 - val_loss: 1.1316 - val_accuracy: 0.5975\n",
            "Epoch 180/250\n",
            "30/30 [==============================] - 1s 47ms/step - loss: 1.0128 - accuracy: 0.6547 - val_loss: 1.2083 - val_accuracy: 0.5932\n",
            "Epoch 181/250\n",
            "30/30 [==============================] - 1s 47ms/step - loss: 0.9229 - accuracy: 0.6800 - val_loss: 1.0592 - val_accuracy: 0.6356\n",
            "Epoch 182/250\n",
            "30/30 [==============================] - 1s 45ms/step - loss: 0.9265 - accuracy: 0.6790 - val_loss: 0.9859 - val_accuracy: 0.6780\n",
            "Epoch 183/250\n",
            "30/30 [==============================] - 1s 45ms/step - loss: 0.9257 - accuracy: 0.6779 - val_loss: 0.9812 - val_accuracy: 0.6949\n",
            "Epoch 184/250\n",
            "30/30 [==============================] - 1s 45ms/step - loss: 0.9291 - accuracy: 0.6737 - val_loss: 1.0426 - val_accuracy: 0.6483\n",
            "Epoch 185/250\n",
            "30/30 [==============================] - 1s 44ms/step - loss: 0.9163 - accuracy: 0.6758 - val_loss: 1.1133 - val_accuracy: 0.6356\n",
            "Epoch 186/250\n",
            "30/30 [==============================] - 1s 45ms/step - loss: 0.9469 - accuracy: 0.6758 - val_loss: 0.9730 - val_accuracy: 0.7034\n",
            "Epoch 187/250\n",
            "30/30 [==============================] - 1s 45ms/step - loss: 0.9317 - accuracy: 0.6769 - val_loss: 0.9578 - val_accuracy: 0.6864\n",
            "Epoch 188/250\n",
            "30/30 [==============================] - 1s 48ms/step - loss: 0.9501 - accuracy: 0.6716 - val_loss: 1.1921 - val_accuracy: 0.5890\n",
            "Epoch 189/250\n",
            "30/30 [==============================] - 1s 48ms/step - loss: 0.9791 - accuracy: 0.6579 - val_loss: 1.1042 - val_accuracy: 0.6229\n",
            "Epoch 190/250\n",
            "30/30 [==============================] - 1s 45ms/step - loss: 0.9756 - accuracy: 0.6431 - val_loss: 0.9948 - val_accuracy: 0.6695\n",
            "Epoch 191/250\n",
            "30/30 [==============================] - 1s 45ms/step - loss: 0.9224 - accuracy: 0.6748 - val_loss: 1.0933 - val_accuracy: 0.6398\n",
            "Epoch 192/250\n",
            "30/30 [==============================] - 1s 45ms/step - loss: 0.9004 - accuracy: 0.6959 - val_loss: 1.0143 - val_accuracy: 0.6398\n",
            "Epoch 193/250\n",
            "30/30 [==============================] - 1s 45ms/step - loss: 0.9219 - accuracy: 0.6790 - val_loss: 1.0478 - val_accuracy: 0.6780\n",
            "Epoch 194/250\n",
            "30/30 [==============================] - 1s 45ms/step - loss: 0.9374 - accuracy: 0.6716 - val_loss: 1.0651 - val_accuracy: 0.6314\n",
            "Epoch 195/250\n",
            "30/30 [==============================] - 1s 48ms/step - loss: 0.8858 - accuracy: 0.6969 - val_loss: 1.0772 - val_accuracy: 0.6059\n",
            "Epoch 196/250\n",
            "30/30 [==============================] - 1s 47ms/step - loss: 0.8919 - accuracy: 0.6737 - val_loss: 1.0457 - val_accuracy: 0.6610\n",
            "Epoch 197/250\n",
            "30/30 [==============================] - 1s 48ms/step - loss: 0.8438 - accuracy: 0.7170 - val_loss: 1.0907 - val_accuracy: 0.6271\n",
            "Epoch 198/250\n",
            "30/30 [==============================] - 1s 48ms/step - loss: 0.8747 - accuracy: 0.7033 - val_loss: 1.0582 - val_accuracy: 0.6568\n",
            "Epoch 199/250\n",
            "30/30 [==============================] - 1s 49ms/step - loss: 0.8561 - accuracy: 0.6969 - val_loss: 1.0041 - val_accuracy: 0.6483\n",
            "Epoch 200/250\n",
            "30/30 [==============================] - 1s 48ms/step - loss: 0.9448 - accuracy: 0.6653 - val_loss: 1.0718 - val_accuracy: 0.6229\n",
            "Epoch 201/250\n",
            "30/30 [==============================] - 1s 48ms/step - loss: 0.8935 - accuracy: 0.6917 - val_loss: 1.0610 - val_accuracy: 0.6610\n",
            "Epoch 202/250\n",
            "30/30 [==============================] - 1s 45ms/step - loss: 0.9714 - accuracy: 0.6473 - val_loss: 1.0357 - val_accuracy: 0.6398\n",
            "Epoch 203/250\n",
            "30/30 [==============================] - 1s 45ms/step - loss: 0.9876 - accuracy: 0.6684 - val_loss: 1.0031 - val_accuracy: 0.6780\n",
            "Epoch 204/250\n",
            "30/30 [==============================] - 1s 48ms/step - loss: 0.8792 - accuracy: 0.6969 - val_loss: 0.9759 - val_accuracy: 0.6780\n",
            "Epoch 205/250\n",
            "30/30 [==============================] - 1s 49ms/step - loss: 0.8614 - accuracy: 0.6959 - val_loss: 0.9565 - val_accuracy: 0.6695\n",
            "Epoch 206/250\n",
            "30/30 [==============================] - 1s 49ms/step - loss: 0.9028 - accuracy: 0.6769 - val_loss: 1.0305 - val_accuracy: 0.6780\n",
            "Epoch 207/250\n",
            "30/30 [==============================] - 1s 45ms/step - loss: 0.8917 - accuracy: 0.6769 - val_loss: 1.0421 - val_accuracy: 0.6822\n",
            "Epoch 208/250\n",
            "30/30 [==============================] - 1s 46ms/step - loss: 0.9178 - accuracy: 0.6737 - val_loss: 1.0218 - val_accuracy: 0.6864\n",
            "Epoch 209/250\n",
            "30/30 [==============================] - 1s 45ms/step - loss: 0.8607 - accuracy: 0.6948 - val_loss: 1.0343 - val_accuracy: 0.6525\n",
            "Epoch 210/250\n",
            "30/30 [==============================] - 1s 45ms/step - loss: 0.9106 - accuracy: 0.6927 - val_loss: 0.9455 - val_accuracy: 0.7034\n",
            "Epoch 211/250\n",
            "30/30 [==============================] - 1s 45ms/step - loss: 0.7986 - accuracy: 0.7265 - val_loss: 0.9315 - val_accuracy: 0.7034\n",
            "Epoch 212/250\n",
            "30/30 [==============================] - 1s 45ms/step - loss: 0.8549 - accuracy: 0.6990 - val_loss: 1.1365 - val_accuracy: 0.6271\n",
            "Epoch 213/250\n",
            "30/30 [==============================] - 1s 48ms/step - loss: 0.8431 - accuracy: 0.7054 - val_loss: 1.0077 - val_accuracy: 0.6780\n",
            "Epoch 214/250\n",
            "30/30 [==============================] - 1s 49ms/step - loss: 0.9283 - accuracy: 0.6790 - val_loss: 1.1992 - val_accuracy: 0.6186\n",
            "Epoch 215/250\n",
            "30/30 [==============================] - 1s 50ms/step - loss: 0.8616 - accuracy: 0.7096 - val_loss: 0.9753 - val_accuracy: 0.6483\n",
            "Epoch 216/250\n",
            "30/30 [==============================] - 1s 45ms/step - loss: 0.7998 - accuracy: 0.7202 - val_loss: 0.9691 - val_accuracy: 0.6737\n",
            "Epoch 217/250\n",
            "30/30 [==============================] - 1s 45ms/step - loss: 0.8526 - accuracy: 0.6927 - val_loss: 1.0758 - val_accuracy: 0.6144\n",
            "Epoch 218/250\n",
            "30/30 [==============================] - 1s 45ms/step - loss: 0.9086 - accuracy: 0.6853 - val_loss: 1.0129 - val_accuracy: 0.6695\n",
            "Epoch 219/250\n",
            "30/30 [==============================] - 1s 45ms/step - loss: 0.8412 - accuracy: 0.7117 - val_loss: 0.9615 - val_accuracy: 0.7161\n",
            "Epoch 220/250\n",
            "30/30 [==============================] - 1s 45ms/step - loss: 0.8428 - accuracy: 0.6927 - val_loss: 0.9743 - val_accuracy: 0.6568\n",
            "Epoch 221/250\n",
            "30/30 [==============================] - 1s 45ms/step - loss: 0.8306 - accuracy: 0.7138 - val_loss: 0.9488 - val_accuracy: 0.6907\n",
            "Epoch 222/250\n",
            "30/30 [==============================] - 1s 44ms/step - loss: 0.8924 - accuracy: 0.6906 - val_loss: 0.9750 - val_accuracy: 0.6907\n",
            "Epoch 223/250\n",
            "30/30 [==============================] - 1s 49ms/step - loss: 0.8800 - accuracy: 0.7001 - val_loss: 0.9305 - val_accuracy: 0.7246\n",
            "Epoch 224/250\n",
            "30/30 [==============================] - 1s 47ms/step - loss: 0.8589 - accuracy: 0.7107 - val_loss: 0.9337 - val_accuracy: 0.7034\n",
            "Epoch 225/250\n",
            "30/30 [==============================] - 1s 45ms/step - loss: 0.8682 - accuracy: 0.7064 - val_loss: 0.9450 - val_accuracy: 0.7161\n",
            "Epoch 226/250\n",
            "30/30 [==============================] - 1s 45ms/step - loss: 0.8617 - accuracy: 0.6885 - val_loss: 1.0211 - val_accuracy: 0.6483\n",
            "Epoch 227/250\n",
            "30/30 [==============================] - 1s 45ms/step - loss: 0.8305 - accuracy: 0.7064 - val_loss: 1.0640 - val_accuracy: 0.6398\n",
            "Epoch 228/250\n",
            "30/30 [==============================] - 1s 45ms/step - loss: 0.9270 - accuracy: 0.6642 - val_loss: 0.9776 - val_accuracy: 0.6907\n",
            "Epoch 229/250\n",
            "30/30 [==============================] - 1s 45ms/step - loss: 0.8523 - accuracy: 0.7149 - val_loss: 0.9177 - val_accuracy: 0.7119\n",
            "Epoch 230/250\n",
            "30/30 [==============================] - 1s 46ms/step - loss: 0.8656 - accuracy: 0.7138 - val_loss: 0.9522 - val_accuracy: 0.6992\n",
            "Epoch 231/250\n",
            "30/30 [==============================] - 1s 48ms/step - loss: 0.8461 - accuracy: 0.7054 - val_loss: 0.9663 - val_accuracy: 0.6780\n",
            "Epoch 232/250\n",
            "30/30 [==============================] - 1s 47ms/step - loss: 0.8643 - accuracy: 0.7064 - val_loss: 0.9550 - val_accuracy: 0.7203\n",
            "Epoch 233/250\n",
            "30/30 [==============================] - 1s 45ms/step - loss: 0.8613 - accuracy: 0.6980 - val_loss: 0.9869 - val_accuracy: 0.6864\n",
            "Epoch 234/250\n",
            "30/30 [==============================] - 1s 46ms/step - loss: 0.7908 - accuracy: 0.7128 - val_loss: 0.9154 - val_accuracy: 0.7203\n",
            "Epoch 235/250\n",
            "30/30 [==============================] - 1s 48ms/step - loss: 0.8086 - accuracy: 0.7117 - val_loss: 0.9050 - val_accuracy: 0.7076\n",
            "Epoch 236/250\n",
            "30/30 [==============================] - 1s 48ms/step - loss: 0.8066 - accuracy: 0.7170 - val_loss: 0.8890 - val_accuracy: 0.7076\n",
            "Epoch 237/250\n",
            "30/30 [==============================] - 1s 49ms/step - loss: 0.7469 - accuracy: 0.7307 - val_loss: 1.0014 - val_accuracy: 0.6653\n",
            "Epoch 238/250\n",
            "30/30 [==============================] - 1s 48ms/step - loss: 0.9628 - accuracy: 0.6980 - val_loss: 0.9275 - val_accuracy: 0.6780\n",
            "Epoch 239/250\n",
            "30/30 [==============================] - 1s 49ms/step - loss: 0.9019 - accuracy: 0.6727 - val_loss: 0.9729 - val_accuracy: 0.6780\n",
            "Epoch 240/250\n",
            "30/30 [==============================] - 1s 48ms/step - loss: 0.8958 - accuracy: 0.6790 - val_loss: 0.9329 - val_accuracy: 0.6737\n",
            "Epoch 241/250\n",
            "30/30 [==============================] - 1s 46ms/step - loss: 0.8672 - accuracy: 0.6969 - val_loss: 0.9030 - val_accuracy: 0.7076\n",
            "Epoch 242/250\n",
            "30/30 [==============================] - 1s 44ms/step - loss: 0.9010 - accuracy: 0.6906 - val_loss: 0.9147 - val_accuracy: 0.7331\n",
            "Epoch 243/250\n",
            "30/30 [==============================] - 1s 45ms/step - loss: 0.8221 - accuracy: 0.7202 - val_loss: 1.1032 - val_accuracy: 0.6314\n",
            "Epoch 244/250\n",
            "30/30 [==============================] - 1s 45ms/step - loss: 0.8302 - accuracy: 0.7170 - val_loss: 0.9132 - val_accuracy: 0.7119\n",
            "Epoch 245/250\n",
            "30/30 [==============================] - 1s 45ms/step - loss: 0.7518 - accuracy: 0.7381 - val_loss: 0.9513 - val_accuracy: 0.6610\n",
            "Epoch 246/250\n",
            "30/30 [==============================] - 1s 45ms/step - loss: 0.8016 - accuracy: 0.7202 - val_loss: 0.9474 - val_accuracy: 0.7161\n",
            "Epoch 247/250\n",
            "30/30 [==============================] - 1s 46ms/step - loss: 0.8357 - accuracy: 0.6959 - val_loss: 0.9774 - val_accuracy: 0.6398\n",
            "Epoch 248/250\n",
            "30/30 [==============================] - 1s 49ms/step - loss: 0.8105 - accuracy: 0.7212 - val_loss: 1.0200 - val_accuracy: 0.6483\n",
            "Epoch 249/250\n",
            "30/30 [==============================] - 1s 48ms/step - loss: 0.8688 - accuracy: 0.6927 - val_loss: 0.9244 - val_accuracy: 0.7076\n",
            "Epoch 250/250\n",
            "30/30 [==============================] - 1s 45ms/step - loss: 0.7427 - accuracy: 0.7328 - val_loss: 0.9762 - val_accuracy: 0.6653\n"
          ]
        }
      ]
    },
    {
      "cell_type": "markdown",
      "source": [
        "Здесь мы проводим инференс модели на изображениях из директории \"./test\" и выводит предсказанный класс и уверенность модели для каждого изображения."
      ],
      "metadata": {
        "id": "xBOmj_DKLFoQ"
      }
    },
    {
      "cell_type": "code",
      "source": [
        "for file in os.listdir(\"/content/drive/MyDrive/datasets/test\"):\n",
        "    img = tf.keras.utils.load_img(f\"/content/drive/MyDrive/datasets/test/{file}\", target_size=(img_height, img_width))\n",
        "    img_array = tf.keras.utils.img_to_array(img)\n",
        "    img_array = tf.expand_dims(img_array / img_width, 0)\n",
        "\n",
        "    predictions = model.predict(img_array, verbose=0)\n",
        "    score = tf.nn.softmax(predictions[0])\n",
        "    answer = CLASSES[np.argmax(score)]\n",
        "\n",
        "    print(f\"predict {answer} on {file} with {round(float(max(score) * 100), 2)} percents\")\n"
      ],
      "metadata": {
        "id": "G9zN7hDaFoGH"
      },
      "execution_count": null,
      "outputs": []
    },
    {
      "cell_type": "markdown",
      "source": [
        "Следующий код позволяет сохранить и конвертировать модель."
      ],
      "metadata": {
        "id": "1NvP0ZylMQ2v"
      }
    },
    {
      "cell_type": "code",
      "source": [
        "# Save the model\n",
        "model.save(MODEL_NAME)\n",
        "\n",
        "# Convert the model\n",
        "converter = tf.lite.TFLiteConverter.from_saved_model(MODEL_NAME)  # path to the SavedModel directory\n",
        "tflite_model = converter.convert()\n",
        "\n",
        "# Save the model\n",
        "with open(f'${MODEL_NAME}.tflite', 'wb') as f:\n",
        "    f.write(tflite_model)"
      ],
      "metadata": {
        "id": "BplGoIYcFyp2"
      },
      "execution_count": null,
      "outputs": []
    },
    {
      "cell_type": "markdown",
      "source": [
        "Далее снимаем метрики для визуализации."
      ],
      "metadata": {
        "id": "jupxTH1ZpICI"
      }
    },
    {
      "cell_type": "code",
      "source": [
        "acc = history.history['accuracy']\n",
        "val_acc = history.history['val_accuracy']\n",
        "\n",
        "loss = history.history['loss']\n",
        "val_loss = history.history['val_loss']\n",
        "\n",
        "epochs_range = range(EPOCHS)"
      ],
      "metadata": {
        "id": "AtEam-F1pICI"
      },
      "execution_count": 20,
      "outputs": []
    },
    {
      "cell_type": "markdown",
      "source": [
        "Строим графики, чтобы наглядно увидеть, как прошло обучение."
      ],
      "metadata": {
        "id": "8wa1zcg6Mezn"
      }
    },
    {
      "cell_type": "code",
      "source": [
        "plt.figure(figsize=(8, 8))\n",
        "plt.subplot(1, 2, 1)\n",
        "plt.plot(epochs_range, acc, label='Training Accuracy')\n",
        "plt.plot(epochs_range, val_acc, label='Validation Accuracy')\n",
        "plt.legend(loc='lower right')\n",
        "plt.title('Training and Validation Accuracy')\n",
        "\n",
        "plt.subplot(1, 2, 2)\n",
        "plt.plot(epochs_range, loss, label='Training Loss')\n",
        "plt.plot(epochs_range, val_loss, label='Validation Loss')\n",
        "plt.legend(loc='upper right')\n",
        "plt.title('Training and Validation Loss')\n",
        "plt.show()"
      ],
      "metadata": {
        "id": "fku1pycyBH2P",
        "colab": {
          "base_uri": "https://localhost:8080/",
          "height": 699
        },
        "outputId": "c5b946e6-2fd3-47b3-eb6f-e310094f7582"
      },
      "execution_count": 21,
      "outputs": [
        {
          "output_type": "display_data",
          "data": {
            "text/plain": [
              "<Figure size 800x800 with 2 Axes>"
            ],
            "image/png": "[encoded data removed]"
          },
          "metadata": {}
        }
      ]
    }
  ]
}